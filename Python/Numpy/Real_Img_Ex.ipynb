{
 "cells": [
  {
   "cell_type": "code",
   "execution_count": 1,
   "metadata": {},
   "outputs": [
    {
     "name": "stdout",
     "output_type": "stream",
     "text": [
      "[3. +0.j 4.5+0.j 3. +5.j 0. +0.j]\n",
      "[ True  True False  True]\n",
      "[3. +0.j 4.5+0.j 0. +0.j]\n",
      "[False False  True False]\n",
      "[3.+5.j]\n"
     ]
    }
   ],
   "source": [
    "# Code starts here\n",
    "import numpy as np\n",
    "# initialize array\n",
    "array = np.array([3,4.5, 3+5j, 0])\n",
    "print(array)\n",
    "\n",
    "# boolean filter\n",
    "real = np.isreal(array)\n",
    "print(real)\n",
    "\n",
    "# boolean filter\n",
    "real_array = array[real]\n",
    "print(real_array)\n",
    "\n",
    "imag = np.iscomplex(array)\n",
    "print(imag)\n",
    "\n",
    "imag_array = array[imag]\n",
    "print(imag_array)\n",
    "# Code ends here"
   ]
  }
 ],
 "metadata": {
  "kernelspec": {
   "display_name": "Python 3",
   "language": "python",
   "name": "python3"
  },
  "language_info": {
   "codemirror_mode": {
    "name": "ipython",
    "version": 3
   },
   "file_extension": ".py",
   "mimetype": "text/x-python",
   "name": "python",
   "nbconvert_exporter": "python",
   "pygments_lexer": "ipython3",
   "version": "3.7.3"
  }
 },
 "nbformat": 4,
 "nbformat_minor": 2
}
